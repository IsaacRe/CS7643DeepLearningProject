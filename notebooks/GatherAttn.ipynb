{
 "cells": [
  {
   "cell_type": "code",
   "execution_count": 1,
   "metadata": {},
   "outputs": [],
   "source": [
    "from mmf.models.mmbt import MMBT\n",
    "from mmf.models.visual_bert import VisualBERT\n",
    "from mmf.models.unimodal import UnimodalText"
   ]
  },
  {
   "cell_type": "code",
   "execution_count": 53,
   "metadata": {},
   "outputs": [],
   "source": [
    "class debug:\n",
    "    def __enter__(self):\n",
    "        import pdb; pdb.set_trace()\n",
    "    def __exit__(self, *args, **kwargs):\n",
    "        pass"
   ]
  },
  {
   "cell_type": "code",
   "execution_count": 39,
   "metadata": {},
   "outputs": [
    {
     "name": "stderr",
     "output_type": "stream",
     "text": [
      "Missing keys ['base.encoder.embeddings.position_ids'] in the checkpoint.\n",
      "If this is not your checkpoint, please open up an issue on MMF GitHub. \n",
      "Unexpected keys if any: []\n"
     ]
    },
    {
     "data": {
      "text/plain": [
       "UnimodalText(\n",
       "  (base): UnimodalBase(\n",
       "    (encoder): BertModelJit(\n",
       "      (embeddings): BertEmbeddingsJit(\n",
       "        (word_embeddings): Embedding(30522, 768, padding_idx=0)\n",
       "        (position_embeddings): Embedding(512, 768)\n",
       "        (token_type_embeddings): Embedding(2, 768)\n",
       "        (LayerNorm): LayerNorm((768,), eps=1e-12, elementwise_affine=True)\n",
       "        (dropout): Dropout(p=0.1, inplace=False)\n",
       "      )\n",
       "      (encoder): BertEncoderJit(\n",
       "        (layer): ModuleList(\n",
       "          (0): BertLayerJit(\n",
       "            (attention): BertAttentionJit(\n",
       "              (self): BertSelfAttentionJit(\n",
       "                (query): Linear(in_features=768, out_features=768, bias=True)\n",
       "                (key): Linear(in_features=768, out_features=768, bias=True)\n",
       "                (value): Linear(in_features=768, out_features=768, bias=True)\n",
       "                (dropout): Dropout(p=0.1, inplace=False)\n",
       "              )\n",
       "              (output): BertSelfOutput(\n",
       "                (dense): Linear(in_features=768, out_features=768, bias=True)\n",
       "                (LayerNorm): LayerNorm((768,), eps=1e-12, elementwise_affine=True)\n",
       "                (dropout): Dropout(p=0.1, inplace=False)\n",
       "              )\n",
       "            )\n",
       "            (intermediate): BertIntermediate(\n",
       "              (dense): Linear(in_features=768, out_features=3072, bias=True)\n",
       "            )\n",
       "            (output): BertOutput(\n",
       "              (dense): Linear(in_features=3072, out_features=768, bias=True)\n",
       "              (LayerNorm): LayerNorm((768,), eps=1e-12, elementwise_affine=True)\n",
       "              (dropout): Dropout(p=0.1, inplace=False)\n",
       "            )\n",
       "          )\n",
       "          (1): BertLayerJit(\n",
       "            (attention): BertAttentionJit(\n",
       "              (self): BertSelfAttentionJit(\n",
       "                (query): Linear(in_features=768, out_features=768, bias=True)\n",
       "                (key): Linear(in_features=768, out_features=768, bias=True)\n",
       "                (value): Linear(in_features=768, out_features=768, bias=True)\n",
       "                (dropout): Dropout(p=0.1, inplace=False)\n",
       "              )\n",
       "              (output): BertSelfOutput(\n",
       "                (dense): Linear(in_features=768, out_features=768, bias=True)\n",
       "                (LayerNorm): LayerNorm((768,), eps=1e-12, elementwise_affine=True)\n",
       "                (dropout): Dropout(p=0.1, inplace=False)\n",
       "              )\n",
       "            )\n",
       "            (intermediate): BertIntermediate(\n",
       "              (dense): Linear(in_features=768, out_features=3072, bias=True)\n",
       "            )\n",
       "            (output): BertOutput(\n",
       "              (dense): Linear(in_features=3072, out_features=768, bias=True)\n",
       "              (LayerNorm): LayerNorm((768,), eps=1e-12, elementwise_affine=True)\n",
       "              (dropout): Dropout(p=0.1, inplace=False)\n",
       "            )\n",
       "          )\n",
       "          (2): BertLayerJit(\n",
       "            (attention): BertAttentionJit(\n",
       "              (self): BertSelfAttentionJit(\n",
       "                (query): Linear(in_features=768, out_features=768, bias=True)\n",
       "                (key): Linear(in_features=768, out_features=768, bias=True)\n",
       "                (value): Linear(in_features=768, out_features=768, bias=True)\n",
       "                (dropout): Dropout(p=0.1, inplace=False)\n",
       "              )\n",
       "              (output): BertSelfOutput(\n",
       "                (dense): Linear(in_features=768, out_features=768, bias=True)\n",
       "                (LayerNorm): LayerNorm((768,), eps=1e-12, elementwise_affine=True)\n",
       "                (dropout): Dropout(p=0.1, inplace=False)\n",
       "              )\n",
       "            )\n",
       "            (intermediate): BertIntermediate(\n",
       "              (dense): Linear(in_features=768, out_features=3072, bias=True)\n",
       "            )\n",
       "            (output): BertOutput(\n",
       "              (dense): Linear(in_features=3072, out_features=768, bias=True)\n",
       "              (LayerNorm): LayerNorm((768,), eps=1e-12, elementwise_affine=True)\n",
       "              (dropout): Dropout(p=0.1, inplace=False)\n",
       "            )\n",
       "          )\n",
       "          (3): BertLayerJit(\n",
       "            (attention): BertAttentionJit(\n",
       "              (self): BertSelfAttentionJit(\n",
       "                (query): Linear(in_features=768, out_features=768, bias=True)\n",
       "                (key): Linear(in_features=768, out_features=768, bias=True)\n",
       "                (value): Linear(in_features=768, out_features=768, bias=True)\n",
       "                (dropout): Dropout(p=0.1, inplace=False)\n",
       "              )\n",
       "              (output): BertSelfOutput(\n",
       "                (dense): Linear(in_features=768, out_features=768, bias=True)\n",
       "                (LayerNorm): LayerNorm((768,), eps=1e-12, elementwise_affine=True)\n",
       "                (dropout): Dropout(p=0.1, inplace=False)\n",
       "              )\n",
       "            )\n",
       "            (intermediate): BertIntermediate(\n",
       "              (dense): Linear(in_features=768, out_features=3072, bias=True)\n",
       "            )\n",
       "            (output): BertOutput(\n",
       "              (dense): Linear(in_features=3072, out_features=768, bias=True)\n",
       "              (LayerNorm): LayerNorm((768,), eps=1e-12, elementwise_affine=True)\n",
       "              (dropout): Dropout(p=0.1, inplace=False)\n",
       "            )\n",
       "          )\n",
       "          (4): BertLayerJit(\n",
       "            (attention): BertAttentionJit(\n",
       "              (self): BertSelfAttentionJit(\n",
       "                (query): Linear(in_features=768, out_features=768, bias=True)\n",
       "                (key): Linear(in_features=768, out_features=768, bias=True)\n",
       "                (value): Linear(in_features=768, out_features=768, bias=True)\n",
       "                (dropout): Dropout(p=0.1, inplace=False)\n",
       "              )\n",
       "              (output): BertSelfOutput(\n",
       "                (dense): Linear(in_features=768, out_features=768, bias=True)\n",
       "                (LayerNorm): LayerNorm((768,), eps=1e-12, elementwise_affine=True)\n",
       "                (dropout): Dropout(p=0.1, inplace=False)\n",
       "              )\n",
       "            )\n",
       "            (intermediate): BertIntermediate(\n",
       "              (dense): Linear(in_features=768, out_features=3072, bias=True)\n",
       "            )\n",
       "            (output): BertOutput(\n",
       "              (dense): Linear(in_features=3072, out_features=768, bias=True)\n",
       "              (LayerNorm): LayerNorm((768,), eps=1e-12, elementwise_affine=True)\n",
       "              (dropout): Dropout(p=0.1, inplace=False)\n",
       "            )\n",
       "          )\n",
       "          (5): BertLayerJit(\n",
       "            (attention): BertAttentionJit(\n",
       "              (self): BertSelfAttentionJit(\n",
       "                (query): Linear(in_features=768, out_features=768, bias=True)\n",
       "                (key): Linear(in_features=768, out_features=768, bias=True)\n",
       "                (value): Linear(in_features=768, out_features=768, bias=True)\n",
       "                (dropout): Dropout(p=0.1, inplace=False)\n",
       "              )\n",
       "              (output): BertSelfOutput(\n",
       "                (dense): Linear(in_features=768, out_features=768, bias=True)\n",
       "                (LayerNorm): LayerNorm((768,), eps=1e-12, elementwise_affine=True)\n",
       "                (dropout): Dropout(p=0.1, inplace=False)\n",
       "              )\n",
       "            )\n",
       "            (intermediate): BertIntermediate(\n",
       "              (dense): Linear(in_features=768, out_features=3072, bias=True)\n",
       "            )\n",
       "            (output): BertOutput(\n",
       "              (dense): Linear(in_features=3072, out_features=768, bias=True)\n",
       "              (LayerNorm): LayerNorm((768,), eps=1e-12, elementwise_affine=True)\n",
       "              (dropout): Dropout(p=0.1, inplace=False)\n",
       "            )\n",
       "          )\n",
       "          (6): BertLayerJit(\n",
       "            (attention): BertAttentionJit(\n",
       "              (self): BertSelfAttentionJit(\n",
       "                (query): Linear(in_features=768, out_features=768, bias=True)\n",
       "                (key): Linear(in_features=768, out_features=768, bias=True)\n",
       "                (value): Linear(in_features=768, out_features=768, bias=True)\n",
       "                (dropout): Dropout(p=0.1, inplace=False)\n",
       "              )\n",
       "              (output): BertSelfOutput(\n",
       "                (dense): Linear(in_features=768, out_features=768, bias=True)\n",
       "                (LayerNorm): LayerNorm((768,), eps=1e-12, elementwise_affine=True)\n",
       "                (dropout): Dropout(p=0.1, inplace=False)\n",
       "              )\n",
       "            )\n",
       "            (intermediate): BertIntermediate(\n",
       "              (dense): Linear(in_features=768, out_features=3072, bias=True)\n",
       "            )\n",
       "            (output): BertOutput(\n",
       "              (dense): Linear(in_features=3072, out_features=768, bias=True)\n",
       "              (LayerNorm): LayerNorm((768,), eps=1e-12, elementwise_affine=True)\n",
       "              (dropout): Dropout(p=0.1, inplace=False)\n",
       "            )\n",
       "          )\n",
       "          (7): BertLayerJit(\n",
       "            (attention): BertAttentionJit(\n",
       "              (self): BertSelfAttentionJit(\n",
       "                (query): Linear(in_features=768, out_features=768, bias=True)\n",
       "                (key): Linear(in_features=768, out_features=768, bias=True)\n",
       "                (value): Linear(in_features=768, out_features=768, bias=True)\n",
       "                (dropout): Dropout(p=0.1, inplace=False)\n",
       "              )\n",
       "              (output): BertSelfOutput(\n",
       "                (dense): Linear(in_features=768, out_features=768, bias=True)\n",
       "                (LayerNorm): LayerNorm((768,), eps=1e-12, elementwise_affine=True)\n",
       "                (dropout): Dropout(p=0.1, inplace=False)\n",
       "              )\n",
       "            )\n",
       "            (intermediate): BertIntermediate(\n",
       "              (dense): Linear(in_features=768, out_features=3072, bias=True)\n",
       "            )\n",
       "            (output): BertOutput(\n",
       "              (dense): Linear(in_features=3072, out_features=768, bias=True)\n",
       "              (LayerNorm): LayerNorm((768,), eps=1e-12, elementwise_affine=True)\n",
       "              (dropout): Dropout(p=0.1, inplace=False)\n",
       "            )\n",
       "          )\n",
       "          (8): BertLayerJit(\n",
       "            (attention): BertAttentionJit(\n",
       "              (self): BertSelfAttentionJit(\n",
       "                (query): Linear(in_features=768, out_features=768, bias=True)\n",
       "                (key): Linear(in_features=768, out_features=768, bias=True)\n",
       "                (value): Linear(in_features=768, out_features=768, bias=True)\n",
       "                (dropout): Dropout(p=0.1, inplace=False)\n",
       "              )\n",
       "              (output): BertSelfOutput(\n",
       "                (dense): Linear(in_features=768, out_features=768, bias=True)\n",
       "                (LayerNorm): LayerNorm((768,), eps=1e-12, elementwise_affine=True)\n",
       "                (dropout): Dropout(p=0.1, inplace=False)\n",
       "              )\n",
       "            )\n",
       "            (intermediate): BertIntermediate(\n",
       "              (dense): Linear(in_features=768, out_features=3072, bias=True)\n",
       "            )\n",
       "            (output): BertOutput(\n",
       "              (dense): Linear(in_features=3072, out_features=768, bias=True)\n",
       "              (LayerNorm): LayerNorm((768,), eps=1e-12, elementwise_affine=True)\n",
       "              (dropout): Dropout(p=0.1, inplace=False)\n",
       "            )\n",
       "          )\n",
       "          (9): BertLayerJit(\n",
       "            (attention): BertAttentionJit(\n",
       "              (self): BertSelfAttentionJit(\n",
       "                (query): Linear(in_features=768, out_features=768, bias=True)\n",
       "                (key): Linear(in_features=768, out_features=768, bias=True)\n",
       "                (value): Linear(in_features=768, out_features=768, bias=True)\n",
       "                (dropout): Dropout(p=0.1, inplace=False)\n",
       "              )\n",
       "              (output): BertSelfOutput(\n",
       "                (dense): Linear(in_features=768, out_features=768, bias=True)\n",
       "                (LayerNorm): LayerNorm((768,), eps=1e-12, elementwise_affine=True)\n",
       "                (dropout): Dropout(p=0.1, inplace=False)\n",
       "              )\n",
       "            )\n",
       "            (intermediate): BertIntermediate(\n",
       "              (dense): Linear(in_features=768, out_features=3072, bias=True)\n",
       "            )\n",
       "            (output): BertOutput(\n",
       "              (dense): Linear(in_features=3072, out_features=768, bias=True)\n",
       "              (LayerNorm): LayerNorm((768,), eps=1e-12, elementwise_affine=True)\n",
       "              (dropout): Dropout(p=0.1, inplace=False)\n",
       "            )\n",
       "          )\n",
       "          (10): BertLayerJit(\n",
       "            (attention): BertAttentionJit(\n",
       "              (self): BertSelfAttentionJit(\n",
       "                (query): Linear(in_features=768, out_features=768, bias=True)\n",
       "                (key): Linear(in_features=768, out_features=768, bias=True)\n",
       "                (value): Linear(in_features=768, out_features=768, bias=True)\n",
       "                (dropout): Dropout(p=0.1, inplace=False)\n",
       "              )\n",
       "              (output): BertSelfOutput(\n",
       "                (dense): Linear(in_features=768, out_features=768, bias=True)\n",
       "                (LayerNorm): LayerNorm((768,), eps=1e-12, elementwise_affine=True)\n",
       "                (dropout): Dropout(p=0.1, inplace=False)\n",
       "              )\n",
       "            )\n",
       "            (intermediate): BertIntermediate(\n",
       "              (dense): Linear(in_features=768, out_features=3072, bias=True)\n",
       "            )\n",
       "            (output): BertOutput(\n",
       "              (dense): Linear(in_features=3072, out_features=768, bias=True)\n",
       "              (LayerNorm): LayerNorm((768,), eps=1e-12, elementwise_affine=True)\n",
       "              (dropout): Dropout(p=0.1, inplace=False)\n",
       "            )\n",
       "          )\n",
       "          (11): BertLayerJit(\n",
       "            (attention): BertAttentionJit(\n",
       "              (self): BertSelfAttentionJit(\n",
       "                (query): Linear(in_features=768, out_features=768, bias=True)\n",
       "                (key): Linear(in_features=768, out_features=768, bias=True)\n",
       "                (value): Linear(in_features=768, out_features=768, bias=True)\n",
       "                (dropout): Dropout(p=0.1, inplace=False)\n",
       "              )\n",
       "              (output): BertSelfOutput(\n",
       "                (dense): Linear(in_features=768, out_features=768, bias=True)\n",
       "                (LayerNorm): LayerNorm((768,), eps=1e-12, elementwise_affine=True)\n",
       "                (dropout): Dropout(p=0.1, inplace=False)\n",
       "              )\n",
       "            )\n",
       "            (intermediate): BertIntermediate(\n",
       "              (dense): Linear(in_features=768, out_features=3072, bias=True)\n",
       "            )\n",
       "            (output): BertOutput(\n",
       "              (dense): Linear(in_features=3072, out_features=768, bias=True)\n",
       "              (LayerNorm): LayerNorm((768,), eps=1e-12, elementwise_affine=True)\n",
       "              (dropout): Dropout(p=0.1, inplace=False)\n",
       "            )\n",
       "          )\n",
       "        )\n",
       "      )\n",
       "      (pooler): BertPooler(\n",
       "        (dense): Linear(in_features=768, out_features=768, bias=True)\n",
       "        (activation): Tanh()\n",
       "      )\n",
       "    )\n",
       "  )\n",
       "  (classifier): MLPClassifer(\n",
       "    (layers): ModuleList(\n",
       "      (0): Linear(in_features=768, out_features=768, bias=True)\n",
       "      (1): BatchNorm1d(768, eps=1e-05, momentum=0.1, affine=True, track_running_stats=True)\n",
       "      (2): ReLU()\n",
       "      (3): Dropout(p=0.5, inplace=False)\n",
       "      (4): Linear(in_features=768, out_features=768, bias=True)\n",
       "      (5): BatchNorm1d(768, eps=1e-05, momentum=0.1, affine=True, track_running_stats=True)\n",
       "      (6): ReLU()\n",
       "      (7): Dropout(p=0.5, inplace=False)\n",
       "      (8): Linear(in_features=768, out_features=2, bias=True)\n",
       "    )\n",
       "  )\n",
       ")"
      ]
     },
     "execution_count": 39,
     "metadata": {},
     "output_type": "execute_result"
    }
   ],
   "source": [
    "# get model\n",
    "#model = VisualBERT.from_pretrained('visual_bert.finetuned.hateful_memes.from_coco')\n",
    "model = UnimodalText.from_pretrained('unimodal_text.hateful_memes.bert')\n",
    "model.cuda()"
   ]
  },
  {
   "cell_type": "code",
   "execution_count": 10,
   "metadata": {},
   "outputs": [],
   "source": [
    "# get config\n",
    "from argparse import Namespace\n",
    "from mmf.utils.configuration import Configuration\n",
    "from mmf.utils.distributed import infer_init_method\n",
    "from mmf.datasets.builders.hateful_memes.builder import HatefulMemesBuilder\n",
    "options = [\"env.save_dir=/home/jupyter/save\",\n",
    "           \"env.data_dir=/home/jupyter/.cache/torch/mmf/data\",\n",
    "           \"dataset=hateful_memes\",\n",
    "           \"run_type=val\"]\n",
    "\n",
    "model_type = 'vb-direct'\n",
    "\n",
    "if model_type == 'vb-coco':\n",
    "    options += [\"config=/home/isaacrehg/mmf/projects/hateful_memes/configs/visual_bert/defaults.yaml\",\n",
    "           \"model=visual_bert\",\n",
    "           \"checkpoint.resume_zoo=visual_bert.finetuned.hateful_memes.from_coco\"]# coco-ft\n",
    "\n",
    "elif model_type == 'vb-direct':\n",
    "    options += [\"config=/home/isaacrehg/mmf/projects/hateful_memes/configs/visual_bert/defaults.yaml\",\n",
    "           \"model=visual_bert\",\n",
    "           \"checkpoint.resume_zoo=visual_bert.finetuned.hateful_memes.direct\"] # separate-ft\n",
    "\n",
    "else:\n",
    "    options += [\"config=/home/isaacrehg/mmf/projects/hateful_memes/configs/unimodal/bert.yaml\",\n",
    "           \"model=unimodal_text\",\n",
    "           \"checkpoint.resume_zoo=unimodal_text.hateful_memes.bert\",\n",
    "          ]#\"checkpoint.resume_pretrained=False\"]\n",
    "    \n",
    "#with debug():\n",
    "args = Namespace(config_override=None)\n",
    "args.opts = options\n",
    "config_ = Configuration(args)\n",
    "config_.args = args\n",
    "config = config_.get_config()\n",
    "config.start_rank = 0\n",
    "if config.distributed_init_method is None:\n",
    "    infer_init_method(config)\n",
    "config.device_id = 0"
   ]
  },
  {
   "cell_type": "code",
   "execution_count": null,
   "metadata": {},
   "outputs": [],
   "source": [
    "# test loaded model\n",
    "from mmf_cli.run import run\n",
    "with debug():\n",
    "    run(predict=True, opts=options)"
   ]
  },
  {
   "cell_type": "code",
   "execution_count": null,
   "metadata": {},
   "outputs": [],
   "source": [
    "# model.model.bert.embeddings.word_embeddings.weight[0,:10]\n",
    "[ 0.0028, -0.0529, -0.0445, -0.0429, -0.0448, -0.0287, -0.0111,\n",
    " -0.0214, -0.0219, -0.0755]\n",
    "# model.model.bert.embeddings.projection.weight[0,:10]\n",
    "[ 0.0197,  0.0086, -0.0135,  0.0146,  0.0216, -0.0082, -0.0100,\n",
    " 0.0407, 0.0282,  0.0425]\n",
    "# model.model.classifier[1].weight[0, :10]\n",
    "[ 0.0261, -0.0210,  0.0094, -0.0097,  0.0126,  0.0288, -0.0114,\n",
    " 0.0180, -0.0253,  0.0077]"
   ]
  },
  {
   "cell_type": "code",
   "execution_count": null,
   "metadata": {},
   "outputs": [],
   "source": [
    "config__"
   ]
  },
  {
   "cell_type": "code",
   "execution_count": null,
   "metadata": {},
   "outputs": [],
   "source": [
    "# we have initialize an trainer just to setup the model properly (thanks facebook *sarcasm*)\n",
    "from mmf.utils.env import set_seed, setup_imports\n",
    "from mmf.common.registry import registry\n",
    "from mmf.utils.build import build_config, build_trainer\n",
    "#config.import_user_dir()\n",
    "config__ = config_.get_config()\n",
    "seed = config__.training.seed\n",
    "config__.training.seed = set_seed(seed if seed == -1 else seed)\n",
    "registry.register('seed', config__.training.seed)\n",
    "config__ = build_config(config_)\n",
    "trainer = build_trainer(config__)\n",
    "trainer.load()"
   ]
  },
  {
   "cell_type": "code",
   "execution_count": null,
   "metadata": {},
   "outputs": [],
   "source": [
    "model = trainer.model\n",
    "model.cuda()\n",
    "del trainer"
   ]
  },
  {
   "cell_type": "code",
   "execution_count": null,
   "metadata": {},
   "outputs": [],
   "source": [
    "import omegaconf\n",
    "from mmf.utils.build import build_model\n",
    "attributes = config.model_config[config.model]\n",
    "with omegaconf.open_dict(attributes):\n",
    "    attributes.model = config.model\n",
    "model = build_model(attributes)\n",
    "model.cuda()"
   ]
  },
  {
   "cell_type": "code",
   "execution_count": null,
   "metadata": {},
   "outputs": [],
   "source": [
    "model"
   ]
  },
  {
   "cell_type": "code",
   "execution_count": null,
   "metadata": {},
   "outputs": [],
   "source": [
    "model.model.bert.embeddings.word_embeddings.weight[0,:10]"
   ]
  },
  {
   "cell_type": "code",
   "execution_count": null,
   "metadata": {},
   "outputs": [],
   "source": [
    "model.model.bert.embedding.word_embedding.weight[0,:10]"
   ]
  },
  {
   "cell_type": "code",
   "execution_count": 11,
   "metadata": {},
   "outputs": [],
   "source": [
    "# get dataloader\n",
    "import torch\n",
    "from mmf.common.dataset_loader import DatasetLoader\n",
    "from mmf.common.batch_collator import BatchCollator\n",
    "#with debug():\n",
    "dataloader = DatasetLoader(config)\n",
    "dataloader.load_datasets()\n",
    "dataset_instance = dataloader.val_dataset._datasets[0]\n",
    "val_loader = loader = torch.utils.data.DataLoader(\n",
    "        dataset=dataset_instance,\n",
    "        pin_memory=True,\n",
    "        collate_fn=BatchCollator(\n",
    "            dataset_instance.dataset_name, dataset_instance.dataset_type\n",
    "        ),\n",
    "        num_workers=4,\n",
    "        drop_last=False,  # see also MultiDatasetLoader.__len__\n",
    "        batch_size=16,\n",
    "        shuffle=False\n",
    "    )"
   ]
  },
  {
   "cell_type": "code",
   "execution_count": 12,
   "metadata": {},
   "outputs": [],
   "source": [
    "prep = dataloader.prepare_batch(next(iter(val_loader)))"
   ]
  },
  {
   "cell_type": "code",
   "execution_count": null,
   "metadata": {},
   "outputs": [],
   "source": [
    "def save_out(m, inp, out):\n",
    "    m.output = out\n",
    "hook = model.model.bert.encoder.register_forward_hook(save_out)"
   ]
  },
  {
   "cell_type": "code",
   "execution_count": null,
   "metadata": {},
   "outputs": [],
   "source": [
    "prep.keys()"
   ]
  },
  {
   "cell_type": "code",
   "execution_count": 18,
   "metadata": {},
   "outputs": [],
   "source": [
    "# for use with unimodal_text bert\n",
    "from mmf.common.sample import to_device\n",
    "device = next(model.parameters()).device\n",
    "sample_list = prep\n",
    "sample_list = to_device(sample_list, device)\n",
    "\n",
    "input_ids = sample_list.input_ids\n",
    "attention_mask = sample_list.input_mask\n",
    "token_type_ids = sample_list.segment_ids\n",
    "position_ids = None\n",
    "input_embeds = None\n",
    "\n",
    "# pre-encoder forward of model.base.encoder\n",
    "input_shape = input_ids.size()\n",
    "if attention_mask is None:\n",
    "    attention_mask = torch.ones(input_shape, device=device)\n",
    "if token_type_ids is None:\n",
    "    token_type_ids = torch.zeros(input_shape, dtype=torch.long, device=device)\n",
    "if attention_mask.dim() == 3:\n",
    "    extended_attention_mask = attention_mask[:, None, :, :]\n",
    "elif attention_mask.dim() == 2:\n",
    "    # Provided a padding mask of dimensions [batch_size, seq_length]\n",
    "    # - if the model is a decoder, apply a causal mask in addition to\n",
    "    # the padding mask\n",
    "    # - if the model is an encoder, make the mask broadcastable to\n",
    "    # [batch_size, num_heads, seq_length, seq_length]\n",
    "    extended_attention_mask = attention_mask[:, None, None, :]\n",
    "else:\n",
    "    raise ValueError(\n",
    "        f\"Wrong shape for input_ids (shape {input_shape}) or \"\n",
    "        + f\"attention_mask (shape {attention_mask.shape})\"\n",
    "    )\n",
    "extended_attention_mask = extended_attention_mask.to(\n",
    "    dtype=next(model.base.encoder.parameters()).dtype\n",
    ")  # fp16 compatibility\n",
    "extended_attention_mask = (1.0 - extended_attention_mask) * -10000.0\n",
    "encoder_extended_attention_mask = None\n",
    "\n",
    "embedding_output = model.base.encoder.embeddings(\n",
    "    input_ids=input_ids,\n",
    "    position_ids=position_ids,\n",
    "    token_type_ids=token_type_ids,\n",
    "    inputs_embeds=None,\n",
    ")\n",
    "\n",
    "\n",
    "encoded_layers = model.base.encoder.encoder(\n",
    "    embedding_output,\n",
    "    attention_mask=extended_attention_mask,\n",
    "    encoder_hidden_states=None,\n",
    "    encoder_attention_mask=None,\n",
    "    output_attentions=True\n",
    ")"
   ]
  },
  {
   "cell_type": "code",
   "execution_count": 32,
   "metadata": {},
   "outputs": [],
   "source": [
    "# finish model.base.encoder forward\n",
    "sequence_output = encoded_layers[0]\n",
    "pooled_output = model.base.encoder.pooler(sequence_output)\n",
    "\n",
    "# finish model.base forward\n",
    "x = torch.flatten(pooled_output, start_dim=1)\n",
    "\n",
    "# finish model forward\n",
    "logits = model.classifier(x)"
   ]
  },
  {
   "cell_type": "code",
   "execution_count": null,
   "metadata": {},
   "outputs": [],
   "source": [
    "# for use with visual bert\n",
    "import torch\n",
    "from mmf.common.sample import to_device\n",
    "from mmf.utils.torchscript import getattr_torchscriptable\n",
    "device = next(model.parameters()).device\n",
    "sample_list = prep\n",
    "sample_list = to_device(sample_list, device)\n",
    "sample_list = model.update_sample_list_based_on_head(sample_list)\n",
    "sample_list = model.add_custom_params(sample_list)\n",
    "sample_list = model.flatten_for_bert(sample_list)\n",
    "sample_list = model.add_post_flatten_params(sample_list)\n",
    "\n",
    "# inputs to model.model:\n",
    "#sample_list[\"input_ids\"],\n",
    "#--> 565             sample_list[\"input_mask\"],\n",
    "#    566             sample_list[\"attention_mask\"],\n",
    "#    567             sample_list[\"token_type_ids\"],\n",
    "#sample_list[\"visual_embeddings\"],\n",
    "#--> 569             sample_list[\"visual_embeddings_type\"],\n",
    "#    570             getattr_torchscriptable(sample_list, \"image_text_alignment\", None),\n",
    "#    571             getattr_torchscriptable(sample_list, \"masked_lm_labels\", None),\n",
    "    \n",
    "# inputs to model.model.bert:\n",
    "input_ids = sample_list[\"input_ids\"]\n",
    "attn_mask = sample_list[\"attention_mask\"]\n",
    "token_type = sample_list[\"token_type_ids\"]\n",
    "vis_embed = sample_list[\"visual_embeddings\"]\n",
    "vis_embed_type = sample_list[\"visual_embeddings_type\"]\n",
    "img_text_alignment = getattr_torchscriptable(sample_list, \"image_text_alignment\", None)\n",
    "\n",
    "# get embeddings\n",
    "if attn_mask is None:\n",
    "    attn_mask = torch.ones_like(input_ids)\n",
    "if token_type is None:\n",
    "    token_type = torch.zeros_like(input_ids)\n",
    "extended_attention_mask = attn_mask.unsqueeze(1).unsqueeze(2)\n",
    "extended_attention_mask = extended_attention_mask.to(\n",
    "    dtype=next(model.model.bert.parameters()).dtype\n",
    ")  # fp16 compatibility\n",
    "extended_attention_mask = (1.0 - extended_attention_mask) * -10000.0\n",
    "\n",
    "with torch.no_grad():\n",
    "    embedding_output = model.model.bert.embeddings(\n",
    "        input_ids,\n",
    "        token_type,\n",
    "        visual_embeddings=vis_embed,\n",
    "        visual_embeddings_type=vis_embed_type, \n",
    "        image_text_alignment=img_text_alignment,\n",
    "    )\n",
    "\n",
    "    encoded_layers = model.model.bert.encoder(embedding_output, extended_attention_mask, output_attentions=True)"
   ]
  },
  {
   "cell_type": "code",
   "execution_count": 19,
   "metadata": {},
   "outputs": [],
   "source": [
    "attns = []\n",
    "attn = encoded_layers[1]\n",
    "attns += [torch.stack([a.data.cpu() for a in attn], dim=1)]\n",
    "import numpy as np\n",
    "np.save('save/attn_weights/test_attn-unimodal_bert.npy', torch.cat(attns).cpu().numpy())"
   ]
  },
  {
   "cell_type": "code",
   "execution_count": null,
   "metadata": {},
   "outputs": [],
   "source": [
    "# completion of model.model.bert forward\n",
    "sequence_output = encoded_layers[0]\n",
    "pooled_output = model.model.bert.pooler(sequence_output)"
   ]
  },
  {
   "cell_type": "code",
   "execution_count": null,
   "metadata": {},
   "outputs": [],
   "source": [
    "# completion of model.model forward\n",
    "attention_weights = []\n",
    "\n",
    "pooled_output = model.model.dropout(pooled_output)\n",
    "logits = model.model.classifier(pooled_output)\n",
    "logits = logits.contiguous().view(-1, model.model.num_labels)"
   ]
  },
  {
   "cell_type": "code",
   "execution_count": null,
   "metadata": {},
   "outputs": [],
   "source": [
    "loss_fn = torch.nn.CrossEntropyLoss()\n",
    "print(loss_fn(logits, prep['targets']).item())\n",
    "\n",
    "print((logits.argmax(dim=1) == prep['targets']).sum().item() / len(prep['targets']))"
   ]
  },
  {
   "cell_type": "markdown",
   "metadata": {},
   "source": [
    "### Gather data for cross-modal attention by loss improvement correlation"
   ]
  },
  {
   "cell_type": "code",
   "execution_count": 47,
   "metadata": {},
   "outputs": [
    {
     "data": {
      "text/plain": [
       "array([[False, False, False, False, False],\n",
       "       [False, False, False, False, False]])"
      ]
     },
     "execution_count": 47,
     "metadata": {},
     "output_type": "execute_result"
    }
   ],
   "source": [
    "np.zeros((2,5)).astype(np.bool)"
   ]
  },
  {
   "cell_type": "code",
   "execution_count": 49,
   "metadata": {},
   "outputs": [
    {
     "data": {
      "text/plain": [
       "array([], shape=(0, 3), dtype=float64)"
      ]
     },
     "execution_count": 49,
     "metadata": {},
     "output_type": "execute_result"
    }
   ],
   "source": [
    "a = np.ndarray((2, 5, 3))\n",
    "a[np.zeros((2, 5)).astype(np.bool)]"
   ]
  },
  {
   "cell_type": "code",
   "execution_count": 5,
   "metadata": {},
   "outputs": [],
   "source": [
    "def compute_entropy(attn, seq_lens=None):\n",
    "    # attn: [batch X layers X heads X seq_len X seq_len]\n",
    "    assert seq_lens is not None\n",
    "    \n",
    "    # get valid mask [batch X seq_len]\n",
    "    valid_mask = np.arange(attn.shape[-1])[None].repeat(attn.shape[0],\n",
    "                                                        axis=0)\n",
    "    valid_mask = np.logical_or(valid_mask < np.array(seq_lens)[:,None],\n",
    "                              valid_mask >= 128)\n",
    "    \n",
    "    # get entropy  \n",
    "    entropy = attn * torch.log(attn) # [batch X layers X heads X 128 X 128]\n",
    "    entropy = entropy.cpu().numpy()\n",
    "    entropy = entropy.transpose(0, 3, 1, 2, 4) # [batch X 128(0) X layers X heads X 128(1)]\n",
    "    entropy[~valid_mask] = 0\n",
    "    entropy = entropy.transpose(0, 4, 2, 3, 1) # [batch X 128(1) X layers X heads X 128(0)]\n",
    "    entropy[~valid_mask] = 0\n",
    "    entropy = entropy.transpose(0, 2, 3, 4, 1) # [batch X layer X, heads X 128(0) X 128(1)]\n",
    "    entropy = entropy.sum(axis=4) # [batch X layers X heads X 128]\n",
    "\n",
    "    # average [batch X layers]\n",
    "    avg_ent = entropy.sum(axis=2).sum(axis=2) / np.array(seq_lens)[:,None]\n",
    "    \n",
    "    return avg_ent\n",
    "\n",
    "def compute_attn_alloc(attn, seq_lens=None):\n",
    "    # attn: [batch X layers X heads X seq_len(0) X seq_len(1)]\n",
    "    assert seq_lens is not None\n",
    "    \n",
    "    # get valid mask [batch X seq_len]\n",
    "    range_arr = np.arange(attn.shape[-1])[None].repeat(attn.shape[0],\n",
    "                                                        axis=0)\n",
    "    text_mask = range_arr < np.array(seq_lens)[:,None]\n",
    "    vis_mask = range_arr >= 128\n",
    "    valid_mask = np.logical_or(text_mask,\n",
    "                              vis_mask)\n",
    "        \n",
    "    attn = attn.cpu().numpy()\n",
    "        \n",
    "    attn = attn.transpose(0, 3, 1, 2, 4) # [batch X 128(0) X layers X heads X 128(1)]\n",
    "    attn_ = attn.copy()\n",
    "    \n",
    "    ##### COMPUTE WITHIN TEXT and VIS MASS ##\n",
    "    \n",
    "    #attn_t2t = attn_.copy()\n",
    "    \n",
    "    ##### COMPUTE TEXT and VIS MASS #####\n",
    "    \n",
    "    attn[~valid_mask] = 0\n",
    "    attn = attn.transpose(0, 4, 2, 3, 1) # [batch X 128(1) X layers X heads X 128(0)]\n",
    "    \n",
    "    attn_text, attn_vis = attn.copy(), attn.copy()\n",
    "    attn_text[~text_mask] = 0\n",
    "    attn_vis[~vis_mask] = 0\n",
    "    attn_text = attn_text.transpose(0, 2, 3, 4, 1) # [batch X layer X, heads X 128(0) X 128(1)]\n",
    "    attn_vis = attn_vis.transpose(0, 2, 3, 4, 1) # [batch X layer X, heads X 128(0) X 128(1)]\n",
    "    #attn = attn.transpose(0, 2, 3, 4, 1) # [batch X layer X, heads X 128(0) X 128(1)]\n",
    "        \n",
    "    text_mass = attn_text.sum(axis=(3, 4)).mean(axis=2)\n",
    "    vis_mass = attn_vis.sum(axis=(3, 4)).mean(axis=2)\n",
    "    \n",
    "    ##### COMPUTE CROSS MODAL MASS #####\n",
    "    \n",
    "    attn_t2v = attn_.copy()  # [batch X 128(1) X layers X heads X 128(0)]\n",
    "    attn_v2t = attn_.copy()\n",
    "    \n",
    "    attn_t2v[~text_mask] = 0\n",
    "    attn_v2t[~vis_mask] = 0\n",
    "    \n",
    "    attn_t2v = attn_t2v.transpose(0, 4, 2, 3, 1) # [batch X 128(1) X layers X heads X 128(0)]\n",
    "    attn_v2t = attn_v2t.transpose(0, 4, 2, 3, 1) # [batch X 128(1) X layers X heads X 128(0)]\n",
    "    \n",
    "    attn_t2v[~vis_mask] = 0\n",
    "    attn_v2t[~text_mask] = 0\n",
    "    \n",
    "    attn_t2v = attn_t2v.transpose(0, 2, 3, 4, 1) # [batch X layer X, heads X 128(0) X 128(1)]\n",
    "    attn_v2t = attn_v2t.transpose(0, 2, 3, 4, 1) # [batch X layer X, heads X 128(0) X 128(1)]\n",
    "    \n",
    "    t2v_mass = attn_t2v.sum(axis=(3, 4)).mean(axis=2)\n",
    "    v2t_mass = attn_v2t.sum(axis=(3, 4)).mean(axis=2)\n",
    "    \n",
    "    return text_mass, vis_mass, (t2v_mass, v2t_mass)\n",
    "    "
   ]
  },
  {
   "cell_type": "code",
   "execution_count": 171,
   "metadata": {},
   "outputs": [],
   "source": [
    "z.allow_pickle = True\n",
    "seq_lens = [len(text) for text in z['text']]\n",
    "attn = old\n",
    "range_arr = np.arange(attn.shape[-1])[None].repeat(attn.shape[0],\n",
    "                                                        axis=0)\n",
    "text_mask = range_arr < np.array(seq_lens)[:,None]\n",
    "vis_mask = range_arr >= 128\n",
    "valid_mask = np.logical_or(text_mask,\n",
    "                          vis_mask)"
   ]
  },
  {
   "cell_type": "code",
   "execution_count": 172,
   "metadata": {},
   "outputs": [],
   "source": [
    "attn = attn.transpose(0, 3, 1, 2, 4) # [batch X 128(0) X layers X heads X 128(1)]\n",
    "attn_ = attn.copy()\n",
    "attn[~valid_mask] = 0"
   ]
  },
  {
   "cell_type": "code",
   "execution_count": 173,
   "metadata": {},
   "outputs": [],
   "source": [
    "attn = attn.transpose(0, 4, 2, 3, 1) # [batch X 128(1) X layers X heads X 128(0)]"
   ]
  },
  {
   "cell_type": "code",
   "execution_count": 177,
   "metadata": {},
   "outputs": [],
   "source": [
    "_attn = attn[0].copy()\n",
    "_attn[~text_mask[0]] = 0"
   ]
  },
  {
   "cell_type": "code",
   "execution_count": 184,
   "metadata": {},
   "outputs": [
    {
     "data": {
      "text/plain": [
       "array([0.06306862, 0.06291715, 0.09523566, 0.05605834, 0.03624731,\n",
       "       0.07269235, 0.0168991 , 0.06116404, 0.05209135, 0.10181452,\n",
       "       0.        , 0.        , 0.        , 0.        , 0.        ,\n",
       "       0.        , 0.        , 0.        , 0.        , 0.        ,\n",
       "       0.        , 0.        , 0.        , 0.        , 0.        ,\n",
       "       0.        , 0.        , 0.        , 0.        , 0.        ,\n",
       "       0.        , 0.        , 0.        , 0.        , 0.        ,\n",
       "       0.        , 0.        , 0.        , 0.        , 0.        ,\n",
       "       0.        , 0.        , 0.        , 0.        , 0.        ,\n",
       "       0.        , 0.        , 0.        , 0.        , 0.        ,\n",
       "       0.        , 0.        , 0.        , 0.        , 0.        ,\n",
       "       0.        , 0.        , 0.        , 0.        , 0.        ,\n",
       "       0.        , 0.        , 0.        , 0.        , 0.        ,\n",
       "       0.        , 0.        , 0.        , 0.        , 0.        ,\n",
       "       0.        , 0.        , 0.        , 0.        , 0.        ,\n",
       "       0.        , 0.        , 0.        , 0.        , 0.        ,\n",
       "       0.        , 0.        , 0.        , 0.        , 0.        ,\n",
       "       0.        , 0.        , 0.        , 0.        , 0.        ,\n",
       "       0.        , 0.        , 0.        , 0.        , 0.        ,\n",
       "       0.        , 0.        , 0.        , 0.        , 0.        ,\n",
       "       0.        , 0.        , 0.        , 0.        , 0.        ,\n",
       "       0.        , 0.        , 0.        , 0.        , 0.        ,\n",
       "       0.        , 0.        , 0.        , 0.        , 0.        ,\n",
       "       0.        , 0.        , 0.        , 0.        , 0.        ,\n",
       "       0.        , 0.        , 0.        , 0.        , 0.        ,\n",
       "       0.        , 0.        , 0.        , 0.1880443 , 0.0350453 ,\n",
       "       0.17167324, 0.0775121 , 0.5741026 , 0.02965858, 0.4093087 ,\n",
       "       0.06296109, 0.04709075, 0.08324764, 0.11284737, 0.44409528,\n",
       "       0.30773678, 0.10137486, 0.21637599, 0.17098027, 0.16772276,\n",
       "       0.04650804, 0.31416306, 0.13716494, 0.05830686, 0.05060465,\n",
       "       0.42388648, 0.22543491, 0.235877  , 0.07293558, 0.10052634,\n",
       "       0.1597085 , 0.17664461, 0.1201347 , 0.09468227, 0.04042762,\n",
       "       0.37076655, 0.09362832, 0.05379725, 0.16138686, 0.06674115,\n",
       "       0.17737232, 0.12354191, 0.10668203, 0.16226663, 0.22860968,\n",
       "       0.11458845, 0.09383222, 0.53944445, 0.08610709, 0.35686174,\n",
       "       0.04021025, 0.15726271, 0.29731047, 0.21597636, 0.02349139,\n",
       "       0.31625694, 0.09907527, 0.06136315, 0.06969894, 0.08517246,\n",
       "       0.13682169, 0.39137477, 0.45020247, 0.08667115, 0.06239361,\n",
       "       0.27499232, 0.10046229, 0.03377394, 0.08228654, 0.40172678,\n",
       "       0.11408871, 0.07787832, 0.05022538, 0.3262226 , 0.24703096,\n",
       "       0.02257139, 0.20418243, 0.09821622, 0.08370971, 0.4058351 ,\n",
       "       0.12892434, 0.15797508, 0.4192354 , 0.49756888, 0.11013475,\n",
       "       0.05561582, 0.07191131, 0.41658255, 0.13035482, 0.22734639,\n",
       "       0.04377391, 0.35731417, 0.29033437, 0.09679884, 0.07853637,\n",
       "       0.75379187, 0.06817014, 0.26940492, 0.0580497 , 0.45213115,\n",
       "       0.12952958, 0.35808405, 0.10802522], dtype=float32)"
      ]
     },
     "execution_count": 184,
     "metadata": {},
     "output_type": "execute_result"
    }
   ],
   "source": [
    "_attn[0, 0, 0, :]"
   ]
  },
  {
   "cell_type": "code",
   "execution_count": 178,
   "metadata": {},
   "outputs": [
    {
     "data": {
      "text/plain": [
       "19.106676"
      ]
     },
     "execution_count": 178,
     "metadata": {},
     "output_type": "execute_result"
    }
   ],
   "source": []
  },
  {
   "cell_type": "code",
   "execution_count": 179,
   "metadata": {},
   "outputs": [
    {
     "data": {
      "text/plain": [
       "[<matplotlib.lines.Line2D at 0x7ff2fccdcc90>]"
      ]
     },
     "execution_count": 179,
     "metadata": {},
     "output_type": "execute_result"
    },
    {
     "data": {
      "image/png": "[encoded data removed]",
      "text/plain": [
       "<Figure size 432x288 with 1 Axes>"
      ]
     },
     "metadata": {
      "needs_background": "light"
     },
     "output_type": "display_data"
    }
   ],
   "source": [
    "plt.plot(range(12), _attn.sum(axis=(0, 2, 3)))"
   ]
  },
  {
   "cell_type": "code",
   "execution_count": 92,
   "metadata": {},
   "outputs": [
    {
     "data": {
      "text/plain": [
       "tensor([ 5439, 34528, 93541, 16704, 48792,  7528,  1268, 83675, 37198, 48670,\n",
       "         9863, 97320], device='cuda:0', dtype=torch.int32)"
      ]
     },
     "execution_count": 92,
     "metadata": {},
     "output_type": "execute_result"
    }
   ],
   "source": [
    "sample_list['id']"
   ]
  },
  {
   "cell_type": "code",
   "execution_count": 42,
   "metadata": {},
   "outputs": [
    {
     "data": {
      "text/plain": [
       "tensor([ 5439, 34528, 93541, 16704, 48792,  7528,  1268, 83675, 37198, 48670,\n",
       "         9863, 97320], device='cuda:0', dtype=torch.int32)"
      ]
     },
     "execution_count": 42,
     "metadata": {},
     "output_type": "execute_result"
    }
   ],
   "source": [
    "sample_list['id']"
   ]
  },
  {
   "cell_type": "code",
   "execution_count": 23,
   "metadata": {},
   "outputs": [
    {
     "data": {
      "text/plain": [
       "array([16.714607, 26.432411, 60.94254 , 55.181274, 58.04466 , 72.923134,\n",
       "       74.01934 , 52.482365, 79.57023 , 70.668594, 80.09521 , 77.477325],\n",
       "      dtype=float32)"
      ]
     },
     "execution_count": 23,
     "metadata": {},
     "output_type": "execute_result"
    }
   ],
   "source": [
    "text_attn_mass[3]"
   ]
  },
  {
   "cell_type": "code",
   "execution_count": 37,
   "metadata": {},
   "outputs": [
    {
     "data": {
      "application/vnd.jupyter.widget-view+json": {
       "model_id": "de6a2b660b3e4d19b6bc41711fa4f5c7",
       "version_major": 2,
       "version_minor": 0
      },
      "text/plain": [
       "HBox(children=(FloatProgress(value=0.0, max=34.0), HTML(value='')))"
      ]
     },
     "metadata": {},
     "output_type": "display_data"
    },
    {
     "name": "stdout",
     "output_type": "stream",
     "text": [
      "\n"
     ]
    },
    {
     "data": {
      "text/plain": [
       "0.6703703703703704"
      ]
     },
     "execution_count": 37,
     "metadata": {},
     "output_type": "execute_result"
    }
   ],
   "source": [
    "# VISUAL BERT\n",
    "import numpy as np\n",
    "import torch\n",
    "from mmf.common.sample import to_device\n",
    "from mmf.utils.torchscript import getattr_torchscriptable\n",
    "from tqdm.auto import tqdm\n",
    "device = next(model.parameters()).device\n",
    "\n",
    "output_attn = True\n",
    "\n",
    "ncorrect = total = 0\n",
    "avg_ents = []\n",
    "s_correct = []\n",
    "text_lengths = []\n",
    "text_attn_mass = []\n",
    "vis_attn_mass = []\n",
    "t2v_attn_mass = []\n",
    "v2t_attn_mass = []\n",
    "\n",
    "\n",
    "stats = ['attn_alloc', 'entropy']\n",
    "\n",
    "with torch.no_grad():\n",
    "    for x in tqdm(val_loader):\n",
    "        prep = dataloader.prepare_batch(x)\n",
    "        sample_list = prep\n",
    "        sample_list = to_device(sample_list, device)\n",
    "        sample_list = model.update_sample_list_based_on_head(sample_list)\n",
    "        sample_list = model.add_custom_params(sample_list)\n",
    "        sample_list = model.flatten_for_bert(sample_list)\n",
    "        sample_list = model.add_post_flatten_params(sample_list)\n",
    "\n",
    "        # inputs to model.model.bert:\n",
    "        input_ids = sample_list[\"input_ids\"]\n",
    "        attn_mask = sample_list[\"attention_mask\"]\n",
    "        token_type = sample_list[\"token_type_ids\"]\n",
    "        vis_embed = sample_list[\"visual_embeddings\"]\n",
    "        vis_embed_type = sample_list[\"visual_embeddings_type\"]\n",
    "        img_text_alignment = getattr_torchscriptable(sample_list, \"image_text_alignment\", None)\n",
    "\n",
    "        # get embeddings\n",
    "        if attn_mask is None:\n",
    "            attn_mask = torch.ones_like(input_ids)\n",
    "        if token_type is None:\n",
    "            token_type = torch.zeros_like(input_ids)\n",
    "        extended_attention_mask = attn_mask.unsqueeze(1).unsqueeze(2)\n",
    "        extended_attention_mask = extended_attention_mask.to(\n",
    "            dtype=next(model.model.bert.parameters()).dtype\n",
    "        )  # fp16 compatibility\n",
    "        extended_attention_mask = (1.0 - extended_attention_mask) * -10000.0\n",
    "\n",
    "        embedding_output = model.model.bert.embeddings(\n",
    "            input_ids,\n",
    "            token_type,\n",
    "            visual_embeddings=vis_embed,\n",
    "            visual_embeddings_type=vis_embed_type, \n",
    "            image_text_alignment=img_text_alignment,\n",
    "        )\n",
    "\n",
    "        encoded_layers = model.model.bert.encoder(embedding_output, extended_attention_mask,\n",
    "                                                  output_attentions=output_attn)\n",
    "        \n",
    "        seq_lens = [len(text) for text in sample_list['text']]\n",
    "        if output_attn:\n",
    "             # compute statistics [batch X layers X heads X 128 X 128]\n",
    "            attn = torch.stack(encoded_layers[1], dim=1)\n",
    "                       \n",
    "            if 'entropy' in stats:\n",
    "                avg_ents += [compute_entropy(attn, seq_lens=seq_lens)]\n",
    "            if 'attn_alloc' in stats:\n",
    "                text_attn, vis_attn, cross_attn = compute_attn_alloc(attn, seq_lens=seq_lens)\n",
    "                t2v_attn, v2t_attn = cross_attn\n",
    "                text_attn_mass += [text_attn]\n",
    "                vis_attn_mass += [vis_attn]\n",
    "                t2v_attn_mass += [t2v_attn]\n",
    "                v2t_attn_mass += [v2t_attn]\n",
    "        \n",
    "        # completion of model.model.bert forward\n",
    "        sequence_output = encoded_layers[0]\n",
    "        pooled_output = model.model.bert.pooler(sequence_output)\n",
    "        \n",
    "        # completion of model.model forward\n",
    "        attention_weights = []\n",
    "\n",
    "        pooled_output = model.model.dropout(pooled_output)\n",
    "        logits = model.model.classifier(pooled_output)\n",
    "        logits = logits.contiguous().view(-1, model.model.num_labels)\n",
    "\n",
    "        \n",
    "        preds = logits.argmax(dim=1)\n",
    "        correct = preds == sample_list['targets']\n",
    "        \n",
    "        s_correct += [correct]\n",
    "        text_lengths += [np.array(seq_lens)]\n",
    "        \n",
    "        ncorrect += correct.sum().item()\n",
    "        total += len(sample_list['targets'])\n",
    "        \n",
    "ncorrect / total"
   ]
  },
  {
   "cell_type": "code",
   "execution_count": 38,
   "metadata": {},
   "outputs": [],
   "source": [
    "np.savez('/home/jupyter/save/attn_weights/visual_bert_coco-all_stats.npz',\n",
    "        lengths=np.concatenate(text_lengths),\n",
    "        correct=torch.cat(s_correct).cpu().numpy(),\n",
    "        entropy=np.concatenate(avg_ents),\n",
    "        text_mass=np.concatenate(text_attn_mass),\n",
    "        vis_mass=np.concatenate(vis_attn_mass),\n",
    "        t2v_mass=np.concatenate(t2v_attn_mass),\n",
    "        v2t_mass=np.concatenate(v2t_attn_mass))"
   ]
  },
  {
   "cell_type": "code",
   "execution_count": 35,
   "metadata": {},
   "outputs": [
    {
     "data": {
      "text/plain": [
       "array([-400.5383113 , -431.56944862, -395.32534555, -360.25833834,\n",
       "       -259.70224234, -112.57580566, -125.45141602, -145.82744892,\n",
       "       -165.72941707, -174.01797251, -152.45526593, -231.44506836])"
      ]
     },
     "execution_count": 35,
     "metadata": {},
     "output_type": "execute_result"
    }
   ],
   "source": [
    "np.concatenate(avg_ents)"
   ]
  },
  {
   "cell_type": "code",
   "execution_count": 40,
   "metadata": {},
   "outputs": [
    {
     "data": {
      "application/vnd.jupyter.widget-view+json": {
       "model_id": "6ef4bee5eeeb4dbaa9815e5e48b4cfe2",
       "version_major": 2,
       "version_minor": 0
      },
      "text/plain": [
       "HBox(children=(FloatProgress(value=0.0, max=34.0), HTML(value='')))"
      ]
     },
     "metadata": {},
     "output_type": "display_data"
    },
    {
     "name": "stdout",
     "output_type": "stream",
     "text": [
      "\n"
     ]
    },
    {
     "data": {
      "text/plain": [
       "0.6166666666666667"
      ]
     },
     "execution_count": 40,
     "metadata": {},
     "output_type": "execute_result"
    }
   ],
   "source": [
    "# UNIMODAL BERT\n",
    "\n",
    "import torch\n",
    "from mmf.common.sample import to_device\n",
    "from mmf.utils.torchscript import getattr_torchscriptable\n",
    "from tqdm.auto import tqdm\n",
    "device = next(model.parameters()).device\n",
    "\n",
    "output_attn = True\n",
    "\n",
    "ncorrect = total = 0\n",
    "avg_ents = []\n",
    "s_correct = []\n",
    "text_lengths = []\n",
    "text_attn_mass = []\n",
    "vis_attn_mass = []\n",
    "t2v_attn_mass = []\n",
    "v2t_attn_mass = []\n",
    "\n",
    "stats = ['entropy']\n",
    "\n",
    "with torch.no_grad():\n",
    "    for x in tqdm(val_loader):\n",
    "        prep = dataloader.prepare_batch(x)\n",
    "        sample_list = prep\n",
    "\n",
    "        sample_list = to_device(sample_list, device)\n",
    "\n",
    "        input_ids = sample_list.input_ids\n",
    "        attention_mask = sample_list.input_mask\n",
    "        token_type_ids = sample_list.segment_ids\n",
    "        position_ids = None\n",
    "        input_embeds = None\n",
    "\n",
    "        # pre-encoder forward of model.base.encoder\n",
    "        input_shape = input_ids.size()\n",
    "        if attention_mask is None:\n",
    "            attention_mask = torch.ones(input_shape, device=device)\n",
    "        if token_type_ids is None:\n",
    "            token_type_ids = torch.zeros(input_shape, dtype=torch.long, device=device)\n",
    "        if attention_mask.dim() == 3:\n",
    "            extended_attention_mask = attention_mask[:, None, :, :]\n",
    "        elif attention_mask.dim() == 2:\n",
    "            # Provided a padding mask of dimensions [batch_size, seq_length]\n",
    "            # - if the model is a decoder, apply a causal mask in addition to\n",
    "            # the padding mask\n",
    "            # - if the model is an encoder, make the mask broadcastable to\n",
    "            # [batch_size, num_heads, seq_length, seq_length]\n",
    "            extended_attention_mask = attention_mask[:, None, None, :]\n",
    "        else:\n",
    "            raise ValueError(\n",
    "                f\"Wrong shape for input_ids (shape {input_shape}) or \"\n",
    "                + f\"attention_mask (shape {attention_mask.shape})\"\n",
    "            )\n",
    "        extended_attention_mask = extended_attention_mask.to(\n",
    "            dtype=next(model.base.encoder.parameters()).dtype\n",
    "        )  # fp16 compatibility\n",
    "        extended_attention_mask = (1.0 - extended_attention_mask) * -10000.0\n",
    "        encoder_extended_attention_mask = None\n",
    "\n",
    "        embedding_output = model.base.encoder.embeddings(\n",
    "            input_ids=input_ids,\n",
    "            position_ids=position_ids,\n",
    "            token_type_ids=token_type_ids,\n",
    "            inputs_embeds=None,\n",
    "        )\n",
    "\n",
    "\n",
    "        encoded_layers = model.base.encoder.encoder(\n",
    "            embedding_output,\n",
    "            attention_mask=extended_attention_mask,\n",
    "            encoder_hidden_states=None,\n",
    "            encoder_attention_mask=None,\n",
    "            output_attentions=True\n",
    "        )\n",
    "        \n",
    "        seq_lens = [len(text) for text in sample_list['text']]\n",
    "        if output_attn:\n",
    "            # compute statistics [batch X layers X heads X 128 X 128]\n",
    "            attn = torch.stack(encoded_layers[1], dim=1)            \n",
    "\n",
    "            if 'entropy' in stats:\n",
    "                avg_ents += [compute_entropy(attn, seq_lens=seq_lens)]\n",
    "            if 'attn_alloc' in stats:\n",
    "                text_attn, vis_attn, cross_attn = compute_attn_alloc(attn, seq_lens=seq_lens)\n",
    "                t2v_attn, v2t_attn = cross_attn\n",
    "                text_attn_mass += [text_attn]\n",
    "                vis_attn_mass += [vis_attn]\n",
    "                t2v_attn_mass += [t2v_attn]\n",
    "                v2t_attn_mass += [v2t_attn]\n",
    "        \n",
    "        # finish model.base.encoder forward\n",
    "        sequence_output = encoded_layers[0]\n",
    "        pooled_output = model.base.encoder.pooler(sequence_output)\n",
    "\n",
    "        # finish model.base forward\n",
    "        x = torch.flatten(pooled_output, start_dim=1)\n",
    "\n",
    "        # finish model forward\n",
    "        logits = model.classifier(x)\n",
    "        \n",
    "        preds = logits.argmax(dim=1)\n",
    "        correct = preds == sample_list['targets']\n",
    "        \n",
    "        s_correct += [correct]\n",
    "        text_lengths += [np.array(seq_lens)]\n",
    "        \n",
    "        ncorrect += correct.sum().item()\n",
    "        total += len(sample_list['targets'])\n",
    "        \n",
    "ncorrect / total"
   ]
  },
  {
   "cell_type": "code",
   "execution_count": 41,
   "metadata": {},
   "outputs": [],
   "source": [
    "np.savez('/home/jupyter/save/attn_weights/unimodal_bert-all_stats.npz',\n",
    "        lengths=np.concatenate(text_lengths),\n",
    "        correct=torch.cat(s_correct).cpu().numpy(),\n",
    "        entropy=np.concatenate(avg_ents))"
   ]
  },
  {
   "cell_type": "code",
   "execution_count": 97,
   "metadata": {},
   "outputs": [
    {
     "data": {
      "text/plain": [
       "[<matplotlib.lines.Line2D at 0x7ff2fccfa9d0>]"
      ]
     },
     "execution_count": 97,
     "metadata": {},
     "output_type": "execute_result"
    },
    {
     "data": {
      "image/png": "[encoded data removed]",
      "text/plain": [
       "<Figure size 432x288 with 1 Axes>"
      ]
     },
     "metadata": {
      "needs_background": "light"
     },
     "output_type": "display_data"
    }
   ],
   "source": [
    "import matplotlib.pyplot as plt\n",
    "%matplotlib inline\n",
    "plt.plot(range(12), avg_e.mean(axis=0))"
   ]
  },
  {
   "cell_type": "code",
   "execution_count": 91,
   "metadata": {},
   "outputs": [
    {
     "data": {
      "text/plain": [
       "[<matplotlib.lines.Line2D at 0x7ff2fcd28cd0>]"
      ]
     },
     "execution_count": 91,
     "metadata": {},
     "output_type": "execute_result"
    },
    {
     "data": {
      "image/png": "[encoded data removed]",
      "text/plain": [
       "<Figure size 432x288 with 1 Axes>"
      ]
     },
     "metadata": {
      "needs_background": "light"
     },
     "output_type": "display_data"
    }
   ],
   "source": [
    "import matplotlib.pyplot as plt\n",
    "%matplotlib inline\n",
    "plt.plot(range(12), avg_e.mean(axis=0))"
   ]
  },
  {
   "cell_type": "code",
   "execution_count": 85,
   "metadata": {},
   "outputs": [
    {
     "data": {
      "text/plain": [
       "[<matplotlib.lines.Line2D at 0x7ff2985d53d0>]"
      ]
     },
     "execution_count": 85,
     "metadata": {},
     "output_type": "execute_result"
    },
    {
     "data": {
      "image/png": "[encoded data removed]",
      "text/plain": [
       "<Figure size 432x288 with 1 Axes>"
      ]
     },
     "metadata": {
      "needs_background": "light"
     },
     "output_type": "display_data"
    }
   ],
   "source": [
    "import matplotlib.pyplot as plt\n",
    "%matplotlib inline\n",
    "plt.plot(range(12), avg_e.mean(axis=0))"
   ]
  },
  {
   "cell_type": "code",
   "execution_count": 95,
   "metadata": {},
   "outputs": [],
   "source": [
    "avg_e = -np.concatenate(avg_ents, axis=0)"
   ]
  },
  {
   "cell_type": "markdown",
   "metadata": {},
   "source": [
    "### Save statistics"
   ]
  },
  {
   "cell_type": "code",
   "execution_count": 96,
   "metadata": {},
   "outputs": [],
   "source": [
    "np.save('/home/jupyter/save/attn_weights/average_entropy-visual_bert_coco.npy',\n",
    "       -np.concatenate(avg_ents, axis=0))"
   ]
  },
  {
   "cell_type": "code",
   "execution_count": 111,
   "metadata": {},
   "outputs": [],
   "source": [
    "np.save('/home/jupyter/save/attn_weights/correct-unimodal_bert.npy',\n",
    "       torch.cat(s_correct).cpu().numpy())"
   ]
  },
  {
   "cell_type": "code",
   "execution_count": null,
   "metadata": {},
   "outputs": [],
   "source": [
    "prep.keys()"
   ]
  },
  {
   "cell_type": "code",
   "execution_count": 20,
   "metadata": {},
   "outputs": [],
   "source": [
    "np.savez('/home/jupyter/save/attn_weights/batch_data.npz', **to_device(prep, 'cpu'))"
   ]
  },
  {
   "cell_type": "code",
   "execution_count": 129,
   "metadata": {},
   "outputs": [],
   "source": [
    "z = np.load('/home/jupyter/save/attn_weights/batch_data.npz')"
   ]
  },
  {
   "cell_type": "code",
   "execution_count": null,
   "metadata": {},
   "outputs": [],
   "source": [
    "z.allow_pickle = True\n",
    "z['image_info_0'].item()['num_boxes']"
   ]
  },
  {
   "cell_type": "code",
   "execution_count": 126,
   "metadata": {},
   "outputs": [],
   "source": [
    "old = np.load('save/attn_weights/test_attn-visual_bert_coco_ft.npy')"
   ]
  },
  {
   "cell_type": "code",
   "execution_count": null,
   "metadata": {},
   "outputs": [],
   "source": [
    "old[0, 0, 0, 0, :10]"
   ]
  },
  {
   "cell_type": "code",
   "execution_count": null,
   "metadata": {},
   "outputs": [],
   "source": [
    "attns[0][0, 0,0 ,0, :10]"
   ]
  },
  {
   "cell_type": "code",
   "execution_count": null,
   "metadata": {},
   "outputs": [],
   "source": []
  },
  {
   "cell_type": "code",
   "execution_count": null,
   "metadata": {},
   "outputs": [],
   "source": [
    "import torch\n",
    "with torch.no_grad():\n",
    "    with debug():\n",
    "        out = model(prep)"
   ]
  },
  {
   "cell_type": "code",
   "execution_count": null,
   "metadata": {},
   "outputs": [],
   "source": [
    "sample_list['attention_mask']"
   ]
  },
  {
   "cell_type": "code",
   "execution_count": null,
   "metadata": {},
   "outputs": [],
   "source": [
    "model.model.bert.encoder.output[1]"
   ]
  },
  {
   "cell_type": "code",
   "execution_count": null,
   "metadata": {},
   "outputs": [],
   "source": [
    "x, y, z = model.model.bert.output"
   ]
  },
  {
   "cell_type": "code",
   "execution_count": null,
   "metadata": {},
   "outputs": [],
   "source": [
    "torch.jit.is_scripting()"
   ]
  },
  {
   "cell_type": "code",
   "execution_count": null,
   "metadata": {},
   "outputs": [],
   "source": [
    "torch.jit._enabled = False"
   ]
  },
  {
   "cell_type": "code",
   "execution_count": null,
   "metadata": {},
   "outputs": [],
   "source": [
    "y.shape"
   ]
  },
  {
   "cell_type": "code",
   "execution_count": null,
   "metadata": {},
   "outputs": [],
   "source": [
    "config.env"
   ]
  },
  {
   "cell_type": "code",
   "execution_count": null,
   "metadata": {},
   "outputs": [],
   "source": [
    "config.model_config.visual_bert.output_attentions"
   ]
  },
  {
   "cell_type": "code",
   "execution_count": null,
   "metadata": {},
   "outputs": [],
   "source": [
    "!ls /home/jupyter/.cache/torch/mmf/data/datasets/hateful_memes/defaults"
   ]
  },
  {
   "cell_type": "code",
   "execution_count": null,
   "metadata": {},
   "outputs": [],
   "source": [
    "!ls /home/isaacrehg/data/img"
   ]
  }
 ],
 "metadata": {
  "environment": {
   "name": "pytorch-gpu.1-4.m56",
   "type": "gcloud",
   "uri": "gcr.io/deeplearning-platform-release/pytorch-gpu.1-4:m56"
  },
  "kernelspec": {
   "display_name": "Python 3",
   "language": "python",
   "name": "python3"
  },
  "language_info": {
   "codemirror_mode": {
    "name": "ipython",
    "version": 3
   },
   "file_extension": ".py",
   "mimetype": "text/x-python",
   "name": "python",
   "nbconvert_exporter": "python",
   "pygments_lexer": "ipython3",
   "version": "3.7.8"
  }
 },
 "nbformat": 4,
 "nbformat_minor": 4
}
